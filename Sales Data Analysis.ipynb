{
 "cells": [
  {
   "cell_type": "markdown",
   "metadata": {},
   "source": [
    "## Sales Data Analysis\n",
    "This is a sample end-to-end use case of analysing sales data of an online store. The main steps are: <br>\n",
    " 1) Data Cleaning <br> \n",
    " 2) Data Wrangling<br>\n",
    " 3) Data Visualisation<br>\n",
    "\n",
    "\n",
    "\n",
    "\n",
    "We answer the following questions:\n",
    "* Which State and Cities make the highest orders\n",
    "* What time of the day are most orders made; hence best time of the day for advertising\n",
    "* What are the most popular products\n",
    "* What products are bought together"
   ]
  },
  {
   "cell_type": "markdown",
   "metadata": {},
   "source": [
    "#### Import libraries"
   ]
  },
  {
   "cell_type": "code",
   "execution_count": 1,
   "metadata": {},
   "outputs": [],
   "source": [
    "import pandas as pd\n",
    "import numpy as np\n",
    "import seaborn as sns\n",
    "import os\n",
    "import datetime as dt\n",
    "import matplotlib.pyplot as plt"
   ]
  },
  {
   "cell_type": "markdown",
   "metadata": {},
   "source": [
    "#### First Look"
   ]
  },
  {
   "cell_type": "code",
   "execution_count": 2,
   "metadata": {},
   "outputs": [
    {
     "data": {
      "text/html": [
       "<div>\n",
       "<style scoped>\n",
       "    .dataframe tbody tr th:only-of-type {\n",
       "        vertical-align: middle;\n",
       "    }\n",
       "\n",
       "    .dataframe tbody tr th {\n",
       "        vertical-align: top;\n",
       "    }\n",
       "\n",
       "    .dataframe thead th {\n",
       "        text-align: right;\n",
       "    }\n",
       "</style>\n",
       "<table border=\"1\" class=\"dataframe\">\n",
       "  <thead>\n",
       "    <tr style=\"text-align: right;\">\n",
       "      <th></th>\n",
       "      <th>Order ID</th>\n",
       "      <th>Product</th>\n",
       "      <th>Quantity Ordered</th>\n",
       "      <th>Price Each</th>\n",
       "      <th>Order Date</th>\n",
       "      <th>Purchase Address</th>\n",
       "    </tr>\n",
       "  </thead>\n",
       "  <tbody>\n",
       "    <tr>\n",
       "      <td>0</td>\n",
       "      <td>295665</td>\n",
       "      <td>Macbook Pro Laptop</td>\n",
       "      <td>1</td>\n",
       "      <td>1700</td>\n",
       "      <td>12/30/19 00:01</td>\n",
       "      <td>136 Church St, New York City, NY 10001</td>\n",
       "    </tr>\n",
       "    <tr>\n",
       "      <td>1</td>\n",
       "      <td>295666</td>\n",
       "      <td>LG Washing Machine</td>\n",
       "      <td>1</td>\n",
       "      <td>600.0</td>\n",
       "      <td>12/29/19 07:03</td>\n",
       "      <td>562 2nd St, New York City, NY 10001</td>\n",
       "    </tr>\n",
       "    <tr>\n",
       "      <td>2</td>\n",
       "      <td>295667</td>\n",
       "      <td>USB-C Charging Cable</td>\n",
       "      <td>1</td>\n",
       "      <td>11.95</td>\n",
       "      <td>12/12/19 18:21</td>\n",
       "      <td>277 Main St, New York City, NY 10001</td>\n",
       "    </tr>\n",
       "    <tr>\n",
       "      <td>3</td>\n",
       "      <td>295668</td>\n",
       "      <td>27in FHD Monitor</td>\n",
       "      <td>1</td>\n",
       "      <td>149.99</td>\n",
       "      <td>12/22/19 15:13</td>\n",
       "      <td>410 6th St, San Francisco, CA 94016</td>\n",
       "    </tr>\n",
       "    <tr>\n",
       "      <td>4</td>\n",
       "      <td>295669</td>\n",
       "      <td>USB-C Charging Cable</td>\n",
       "      <td>1</td>\n",
       "      <td>11.95</td>\n",
       "      <td>12/18/19 12:38</td>\n",
       "      <td>43 Hill St, Atlanta, GA 30301</td>\n",
       "    </tr>\n",
       "  </tbody>\n",
       "</table>\n",
       "</div>"
      ],
      "text/plain": [
       "  Order ID               Product Quantity Ordered Price Each      Order Date  \\\n",
       "0   295665    Macbook Pro Laptop                1       1700  12/30/19 00:01   \n",
       "1   295666    LG Washing Machine                1      600.0  12/29/19 07:03   \n",
       "2   295667  USB-C Charging Cable                1      11.95  12/12/19 18:21   \n",
       "3   295668      27in FHD Monitor                1     149.99  12/22/19 15:13   \n",
       "4   295669  USB-C Charging Cable                1      11.95  12/18/19 12:38   \n",
       "\n",
       "                         Purchase Address  \n",
       "0  136 Church St, New York City, NY 10001  \n",
       "1     562 2nd St, New York City, NY 10001  \n",
       "2    277 Main St, New York City, NY 10001  \n",
       "3     410 6th St, San Francisco, CA 94016  \n",
       "4           43 Hill St, Atlanta, GA 30301  "
      ]
     },
     "execution_count": 2,
     "metadata": {},
     "output_type": "execute_result"
    }
   ],
   "source": [
    "data = pd.read_csv('Pandas-Data-Science-Tasks-master/SalesAnalysis/Sales_Data/Sales_December_2019.csv')\n",
    "data.head()"
   ]
  },
  {
   "cell_type": "markdown",
   "metadata": {},
   "source": [
    "#### Task 1: Merge all monthly files "
   ]
  },
  {
   "cell_type": "code",
   "execution_count": 3,
   "metadata": {},
   "outputs": [],
   "source": [
    "data_dir = 'Pandas-Data-Science-Tasks-master/SalesAnalysis/Sales_Data/'\n",
    "data  = pd.DataFrame()  ## Initialise the dataframe\n",
    "for file in os.listdir(data_dir):\n",
    "    data = pd.concat([data,pd.read_csv(data_dir + file)])"
   ]
  },
  {
   "cell_type": "code",
   "execution_count": 4,
   "metadata": {},
   "outputs": [
    {
     "name": "stdout",
     "output_type": "stream",
     "text": [
      "<class 'pandas.core.frame.DataFrame'>\n",
      "Int64Index: 186850 entries, 0 to 13621\n",
      "Data columns (total 6 columns):\n",
      "Order ID            186305 non-null object\n",
      "Product             186305 non-null object\n",
      "Quantity Ordered    186305 non-null object\n",
      "Price Each          186305 non-null object\n",
      "Order Date          186305 non-null object\n",
      "Purchase Address    186305 non-null object\n",
      "dtypes: object(6)\n",
      "memory usage: 10.0+ MB\n"
     ]
    }
   ],
   "source": [
    "data.info()"
   ]
  },
  {
   "cell_type": "markdown",
   "metadata": {},
   "source": [
    "#### Question: What is the best month for sales and how much was earned that month"
   ]
  },
  {
   "cell_type": "code",
   "execution_count": 5,
   "metadata": {},
   "outputs": [],
   "source": [
    "## Get a column with month value\n",
    "# data['month'] = data['Order Date'].str[0:2].astype('int')\n",
    "## ERROR"
   ]
  },
  {
   "cell_type": "markdown",
   "metadata": {},
   "source": [
    "#### Tasks\n",
    "- Data has NaN. Hence **drop NaNs**. \n",
    "- Data has 'Or' as month in some dates, so remove them\n",
    "- change data type for calculation "
   ]
  },
  {
   "cell_type": "code",
   "execution_count": 6,
   "metadata": {},
   "outputs": [],
   "source": [
    "data2 = data.dropna()\n",
    "data2 = data2[data2['Order Date'].str[0:2] != 'Or']\n",
    "data2['Month'] = data2['Order Date'].str[0:2].astype('int')\n",
    "data2['Sales'] = pd.to_numeric(data2['Quantity Ordered'])*pd.to_numeric(data2['Price Each'])"
   ]
  },
  {
   "cell_type": "code",
   "execution_count": 7,
   "metadata": {},
   "outputs": [
    {
     "data": {
      "text/html": [
       "<div>\n",
       "<style scoped>\n",
       "    .dataframe tbody tr th:only-of-type {\n",
       "        vertical-align: middle;\n",
       "    }\n",
       "\n",
       "    .dataframe tbody tr th {\n",
       "        vertical-align: top;\n",
       "    }\n",
       "\n",
       "    .dataframe thead th {\n",
       "        text-align: right;\n",
       "    }\n",
       "</style>\n",
       "<table border=\"1\" class=\"dataframe\">\n",
       "  <thead>\n",
       "    <tr style=\"text-align: right;\">\n",
       "      <th></th>\n",
       "      <th>Order ID</th>\n",
       "      <th>Product</th>\n",
       "      <th>Quantity Ordered</th>\n",
       "      <th>Price Each</th>\n",
       "      <th>Order Date</th>\n",
       "      <th>Purchase Address</th>\n",
       "      <th>Month</th>\n",
       "      <th>Sales</th>\n",
       "    </tr>\n",
       "  </thead>\n",
       "  <tbody>\n",
       "    <tr>\n",
       "      <td>0</td>\n",
       "      <td>295665</td>\n",
       "      <td>Macbook Pro Laptop</td>\n",
       "      <td>1</td>\n",
       "      <td>1700</td>\n",
       "      <td>12/30/19 00:01</td>\n",
       "      <td>136 Church St, New York City, NY 10001</td>\n",
       "      <td>12</td>\n",
       "      <td>1700.00</td>\n",
       "    </tr>\n",
       "    <tr>\n",
       "      <td>1</td>\n",
       "      <td>295666</td>\n",
       "      <td>LG Washing Machine</td>\n",
       "      <td>1</td>\n",
       "      <td>600.0</td>\n",
       "      <td>12/29/19 07:03</td>\n",
       "      <td>562 2nd St, New York City, NY 10001</td>\n",
       "      <td>12</td>\n",
       "      <td>600.00</td>\n",
       "    </tr>\n",
       "    <tr>\n",
       "      <td>2</td>\n",
       "      <td>295667</td>\n",
       "      <td>USB-C Charging Cable</td>\n",
       "      <td>1</td>\n",
       "      <td>11.95</td>\n",
       "      <td>12/12/19 18:21</td>\n",
       "      <td>277 Main St, New York City, NY 10001</td>\n",
       "      <td>12</td>\n",
       "      <td>11.95</td>\n",
       "    </tr>\n",
       "    <tr>\n",
       "      <td>3</td>\n",
       "      <td>295668</td>\n",
       "      <td>27in FHD Monitor</td>\n",
       "      <td>1</td>\n",
       "      <td>149.99</td>\n",
       "      <td>12/22/19 15:13</td>\n",
       "      <td>410 6th St, San Francisco, CA 94016</td>\n",
       "      <td>12</td>\n",
       "      <td>149.99</td>\n",
       "    </tr>\n",
       "    <tr>\n",
       "      <td>4</td>\n",
       "      <td>295669</td>\n",
       "      <td>USB-C Charging Cable</td>\n",
       "      <td>1</td>\n",
       "      <td>11.95</td>\n",
       "      <td>12/18/19 12:38</td>\n",
       "      <td>43 Hill St, Atlanta, GA 30301</td>\n",
       "      <td>12</td>\n",
       "      <td>11.95</td>\n",
       "    </tr>\n",
       "  </tbody>\n",
       "</table>\n",
       "</div>"
      ],
      "text/plain": [
       "  Order ID               Product Quantity Ordered Price Each      Order Date  \\\n",
       "0   295665    Macbook Pro Laptop                1       1700  12/30/19 00:01   \n",
       "1   295666    LG Washing Machine                1      600.0  12/29/19 07:03   \n",
       "2   295667  USB-C Charging Cable                1      11.95  12/12/19 18:21   \n",
       "3   295668      27in FHD Monitor                1     149.99  12/22/19 15:13   \n",
       "4   295669  USB-C Charging Cable                1      11.95  12/18/19 12:38   \n",
       "\n",
       "                         Purchase Address  Month    Sales  \n",
       "0  136 Church St, New York City, NY 10001     12  1700.00  \n",
       "1     562 2nd St, New York City, NY 10001     12   600.00  \n",
       "2    277 Main St, New York City, NY 10001     12    11.95  \n",
       "3     410 6th St, San Francisco, CA 94016     12   149.99  \n",
       "4           43 Hill St, Atlanta, GA 30301     12    11.95  "
      ]
     },
     "execution_count": 7,
     "metadata": {},
     "output_type": "execute_result"
    }
   ],
   "source": [
    "data2.head()"
   ]
  },
  {
   "cell_type": "code",
   "execution_count": 8,
   "metadata": {},
   "outputs": [
    {
     "data": {
      "text/plain": [
       "Text(0, 0.5, 'Sales ($)')"
      ]
     },
     "execution_count": 8,
     "metadata": {},
     "output_type": "execute_result"
    },
    {
     "data": {
      "image/png": "[encoded data removed]",
      "text/plain": [
       "<Figure size 432x288 with 1 Axes>"
      ]
     },
     "metadata": {
      "needs_background": "light"
     },
     "output_type": "display_data"
    }
   ],
   "source": [
    "data_gp_mnth  = data2.groupby('Month').sum()\n",
    "sns.barplot(y = data_gp_mnth['Sales'],   x = data_gp_mnth.index)\n",
    "plt.ylabel('Sales ($)')"
   ]
  },
  {
   "cell_type": "markdown",
   "metadata": {},
   "source": [
    "#### Question: Which State had the highest sales?"
   ]
  },
  {
   "cell_type": "code",
   "execution_count": 9,
   "metadata": {},
   "outputs": [
    {
     "data": {
      "text/html": [
       "<div>\n",
       "<style scoped>\n",
       "    .dataframe tbody tr th:only-of-type {\n",
       "        vertical-align: middle;\n",
       "    }\n",
       "\n",
       "    .dataframe tbody tr th {\n",
       "        vertical-align: top;\n",
       "    }\n",
       "\n",
       "    .dataframe thead th {\n",
       "        text-align: right;\n",
       "    }\n",
       "</style>\n",
       "<table border=\"1\" class=\"dataframe\">\n",
       "  <thead>\n",
       "    <tr style=\"text-align: right;\">\n",
       "      <th></th>\n",
       "      <th>Order ID</th>\n",
       "      <th>Product</th>\n",
       "      <th>Quantity Ordered</th>\n",
       "      <th>Price Each</th>\n",
       "      <th>Order Date</th>\n",
       "      <th>Purchase Address</th>\n",
       "      <th>Month</th>\n",
       "      <th>Sales</th>\n",
       "      <th>State</th>\n",
       "    </tr>\n",
       "  </thead>\n",
       "  <tbody>\n",
       "    <tr>\n",
       "      <td>0</td>\n",
       "      <td>295665</td>\n",
       "      <td>Macbook Pro Laptop</td>\n",
       "      <td>1</td>\n",
       "      <td>1700</td>\n",
       "      <td>12/30/19 00:01</td>\n",
       "      <td>136 Church St, New York City, NY 10001</td>\n",
       "      <td>12</td>\n",
       "      <td>1700.00</td>\n",
       "      <td>NY</td>\n",
       "    </tr>\n",
       "    <tr>\n",
       "      <td>1</td>\n",
       "      <td>295666</td>\n",
       "      <td>LG Washing Machine</td>\n",
       "      <td>1</td>\n",
       "      <td>600.0</td>\n",
       "      <td>12/29/19 07:03</td>\n",
       "      <td>562 2nd St, New York City, NY 10001</td>\n",
       "      <td>12</td>\n",
       "      <td>600.00</td>\n",
       "      <td>NY</td>\n",
       "    </tr>\n",
       "    <tr>\n",
       "      <td>2</td>\n",
       "      <td>295667</td>\n",
       "      <td>USB-C Charging Cable</td>\n",
       "      <td>1</td>\n",
       "      <td>11.95</td>\n",
       "      <td>12/12/19 18:21</td>\n",
       "      <td>277 Main St, New York City, NY 10001</td>\n",
       "      <td>12</td>\n",
       "      <td>11.95</td>\n",
       "      <td>NY</td>\n",
       "    </tr>\n",
       "    <tr>\n",
       "      <td>3</td>\n",
       "      <td>295668</td>\n",
       "      <td>27in FHD Monitor</td>\n",
       "      <td>1</td>\n",
       "      <td>149.99</td>\n",
       "      <td>12/22/19 15:13</td>\n",
       "      <td>410 6th St, San Francisco, CA 94016</td>\n",
       "      <td>12</td>\n",
       "      <td>149.99</td>\n",
       "      <td>CA</td>\n",
       "    </tr>\n",
       "    <tr>\n",
       "      <td>4</td>\n",
       "      <td>295669</td>\n",
       "      <td>USB-C Charging Cable</td>\n",
       "      <td>1</td>\n",
       "      <td>11.95</td>\n",
       "      <td>12/18/19 12:38</td>\n",
       "      <td>43 Hill St, Atlanta, GA 30301</td>\n",
       "      <td>12</td>\n",
       "      <td>11.95</td>\n",
       "      <td>GA</td>\n",
       "    </tr>\n",
       "  </tbody>\n",
       "</table>\n",
       "</div>"
      ],
      "text/plain": [
       "  Order ID               Product Quantity Ordered Price Each      Order Date  \\\n",
       "0   295665    Macbook Pro Laptop                1       1700  12/30/19 00:01   \n",
       "1   295666    LG Washing Machine                1      600.0  12/29/19 07:03   \n",
       "2   295667  USB-C Charging Cable                1      11.95  12/12/19 18:21   \n",
       "3   295668      27in FHD Monitor                1     149.99  12/22/19 15:13   \n",
       "4   295669  USB-C Charging Cable                1      11.95  12/18/19 12:38   \n",
       "\n",
       "                         Purchase Address  Month    Sales State  \n",
       "0  136 Church St, New York City, NY 10001     12  1700.00    NY  \n",
       "1     562 2nd St, New York City, NY 10001     12   600.00    NY  \n",
       "2    277 Main St, New York City, NY 10001     12    11.95    NY  \n",
       "3     410 6th St, San Francisco, CA 94016     12   149.99    CA  \n",
       "4           43 Hill St, Atlanta, GA 30301     12    11.95    GA  "
      ]
     },
     "execution_count": 9,
     "metadata": {},
     "output_type": "execute_result"
    }
   ],
   "source": [
    "data2['State'] = data2['Purchase Address'].str[-9:-6]\n",
    "data2.head()"
   ]
  },
  {
   "cell_type": "code",
   "execution_count": 10,
   "metadata": {},
   "outputs": [
    {
     "data": {
      "text/plain": [
       "<matplotlib.axes._subplots.AxesSubplot at 0x1a245ea210>"
      ]
     },
     "execution_count": 10,
     "metadata": {},
     "output_type": "execute_result"
    },
    {
     "data": {
      "image/png": "[encoded data removed]",
      "text/plain": [
       "<Figure size 432x288 with 1 Axes>"
      ]
     },
     "metadata": {
      "needs_background": "light"
     },
     "output_type": "display_data"
    }
   ],
   "source": [
    "data_gp_state  = data2.groupby('State').sum()\n",
    "sns.barplot(y = data_gp_state['Sales'], x = data_gp_state.index)"
   ]
  },
  {
   "cell_type": "markdown",
   "metadata": {},
   "source": [
    "#### Question: Which city had the highest sales?"
   ]
  },
  {
   "cell_type": "markdown",
   "metadata": {},
   "source": [
    "#### Task Get City Name Column"
   ]
  },
  {
   "cell_type": "code",
   "execution_count": 11,
   "metadata": {},
   "outputs": [],
   "source": [
    "data2['City'] = data2['Purchase Address'].apply(lambda x : x.split(',')[1])\n",
    "data2.head()\n",
    "data2['City, State'] = data2['City'] + ', ' + data2['State']"
   ]
  },
  {
   "cell_type": "code",
   "execution_count": 12,
   "metadata": {},
   "outputs": [
    {
     "data": {
      "text/plain": [
       "<matplotlib.axes._subplots.AxesSubplot at 0x1a267c07d0>"
      ]
     },
     "execution_count": 12,
     "metadata": {},
     "output_type": "execute_result"
    },
    {
     "data": {
      "image/png": "[encoded data removed]",
      "text/plain": [
       "<Figure size 1440x720 with 1 Axes>"
      ]
     },
     "metadata": {
      "needs_background": "light"
     },
     "output_type": "display_data"
    }
   ],
   "source": [
    "data_gp_city = data2.groupby('City, State').sum()\n",
    "plt.figure(figsize=(20,10))\n",
    "sns.barplot(x = data_gp_city.index , y = data_gp_city.Sales)"
   ]
  },
  {
   "cell_type": "markdown",
   "metadata": {},
   "source": [
    "#### What time a customer should advertise the product for maximising liklihood of buying"
   ]
  },
  {
   "cell_type": "code",
   "execution_count": 13,
   "metadata": {},
   "outputs": [
    {
     "data": {
      "text/html": [
       "<div>\n",
       "<style scoped>\n",
       "    .dataframe tbody tr th:only-of-type {\n",
       "        vertical-align: middle;\n",
       "    }\n",
       "\n",
       "    .dataframe tbody tr th {\n",
       "        vertical-align: top;\n",
       "    }\n",
       "\n",
       "    .dataframe thead th {\n",
       "        text-align: right;\n",
       "    }\n",
       "</style>\n",
       "<table border=\"1\" class=\"dataframe\">\n",
       "  <thead>\n",
       "    <tr style=\"text-align: right;\">\n",
       "      <th></th>\n",
       "      <th>Order ID</th>\n",
       "      <th>Product</th>\n",
       "      <th>Quantity Ordered</th>\n",
       "      <th>Price Each</th>\n",
       "      <th>Order Date</th>\n",
       "      <th>Purchase Address</th>\n",
       "      <th>Month</th>\n",
       "      <th>Sales</th>\n",
       "      <th>State</th>\n",
       "      <th>City</th>\n",
       "      <th>City, State</th>\n",
       "      <th>Order Time</th>\n",
       "      <th>Order Hour</th>\n",
       "    </tr>\n",
       "  </thead>\n",
       "  <tbody>\n",
       "    <tr>\n",
       "      <td>0</td>\n",
       "      <td>295665</td>\n",
       "      <td>Macbook Pro Laptop</td>\n",
       "      <td>1</td>\n",
       "      <td>1700</td>\n",
       "      <td>12/30/19 00:01</td>\n",
       "      <td>136 Church St, New York City, NY 10001</td>\n",
       "      <td>12</td>\n",
       "      <td>1700.00</td>\n",
       "      <td>NY</td>\n",
       "      <td>New York City</td>\n",
       "      <td>New York City,  NY</td>\n",
       "      <td>00:01</td>\n",
       "      <td>00</td>\n",
       "    </tr>\n",
       "    <tr>\n",
       "      <td>1</td>\n",
       "      <td>295666</td>\n",
       "      <td>LG Washing Machine</td>\n",
       "      <td>1</td>\n",
       "      <td>600.0</td>\n",
       "      <td>12/29/19 07:03</td>\n",
       "      <td>562 2nd St, New York City, NY 10001</td>\n",
       "      <td>12</td>\n",
       "      <td>600.00</td>\n",
       "      <td>NY</td>\n",
       "      <td>New York City</td>\n",
       "      <td>New York City,  NY</td>\n",
       "      <td>07:03</td>\n",
       "      <td>07</td>\n",
       "    </tr>\n",
       "    <tr>\n",
       "      <td>2</td>\n",
       "      <td>295667</td>\n",
       "      <td>USB-C Charging Cable</td>\n",
       "      <td>1</td>\n",
       "      <td>11.95</td>\n",
       "      <td>12/12/19 18:21</td>\n",
       "      <td>277 Main St, New York City, NY 10001</td>\n",
       "      <td>12</td>\n",
       "      <td>11.95</td>\n",
       "      <td>NY</td>\n",
       "      <td>New York City</td>\n",
       "      <td>New York City,  NY</td>\n",
       "      <td>18:21</td>\n",
       "      <td>18</td>\n",
       "    </tr>\n",
       "    <tr>\n",
       "      <td>3</td>\n",
       "      <td>295668</td>\n",
       "      <td>27in FHD Monitor</td>\n",
       "      <td>1</td>\n",
       "      <td>149.99</td>\n",
       "      <td>12/22/19 15:13</td>\n",
       "      <td>410 6th St, San Francisco, CA 94016</td>\n",
       "      <td>12</td>\n",
       "      <td>149.99</td>\n",
       "      <td>CA</td>\n",
       "      <td>San Francisco</td>\n",
       "      <td>San Francisco,  CA</td>\n",
       "      <td>15:13</td>\n",
       "      <td>15</td>\n",
       "    </tr>\n",
       "    <tr>\n",
       "      <td>4</td>\n",
       "      <td>295669</td>\n",
       "      <td>USB-C Charging Cable</td>\n",
       "      <td>1</td>\n",
       "      <td>11.95</td>\n",
       "      <td>12/18/19 12:38</td>\n",
       "      <td>43 Hill St, Atlanta, GA 30301</td>\n",
       "      <td>12</td>\n",
       "      <td>11.95</td>\n",
       "      <td>GA</td>\n",
       "      <td>Atlanta</td>\n",
       "      <td>Atlanta,  GA</td>\n",
       "      <td>12:38</td>\n",
       "      <td>12</td>\n",
       "    </tr>\n",
       "  </tbody>\n",
       "</table>\n",
       "</div>"
      ],
      "text/plain": [
       "  Order ID               Product Quantity Ordered Price Each      Order Date  \\\n",
       "0   295665    Macbook Pro Laptop                1       1700  12/30/19 00:01   \n",
       "1   295666    LG Washing Machine                1      600.0  12/29/19 07:03   \n",
       "2   295667  USB-C Charging Cable                1      11.95  12/12/19 18:21   \n",
       "3   295668      27in FHD Monitor                1     149.99  12/22/19 15:13   \n",
       "4   295669  USB-C Charging Cable                1      11.95  12/18/19 12:38   \n",
       "\n",
       "                         Purchase Address  Month    Sales State  \\\n",
       "0  136 Church St, New York City, NY 10001     12  1700.00    NY   \n",
       "1     562 2nd St, New York City, NY 10001     12   600.00    NY   \n",
       "2    277 Main St, New York City, NY 10001     12    11.95    NY   \n",
       "3     410 6th St, San Francisco, CA 94016     12   149.99    CA   \n",
       "4           43 Hill St, Atlanta, GA 30301     12    11.95    GA   \n",
       "\n",
       "             City          City, State Order Time Order Hour  \n",
       "0   New York City   New York City,  NY      00:01         00  \n",
       "1   New York City   New York City,  NY      07:03         07  \n",
       "2   New York City   New York City,  NY      18:21         18  \n",
       "3   San Francisco   San Francisco,  CA      15:13         15  \n",
       "4         Atlanta         Atlanta,  GA      12:38         12  "
      ]
     },
     "execution_count": 13,
     "metadata": {},
     "output_type": "execute_result"
    }
   ],
   "source": [
    "data2['Order Time'] = data2['Order Date'].apply(lambda x : x.split(' ')[1])\n",
    "data2['Order Hour'] = data2['Order Time'].apply(lambda x : x.split(':')[0])\n",
    "data2.head()"
   ]
  },
  {
   "cell_type": "code",
   "execution_count": 14,
   "metadata": {},
   "outputs": [
    {
     "data": {
      "text/plain": [
       "<matplotlib.axes._subplots.AxesSubplot at 0x1a273fb890>"
      ]
     },
     "execution_count": 14,
     "metadata": {},
     "output_type": "execute_result"
    },
    {
     "data": {
      "image/png": "[encoded data removed]",
      "text/plain": [
       "<Figure size 720x360 with 1 Axes>"
      ]
     },
     "metadata": {
      "needs_background": "light"
     },
     "output_type": "display_data"
    }
   ],
   "source": [
    "data_gp_hour = data2.groupby('Order Hour').count()\n",
    "data_gp_hour.head()\n",
    "plt.figure(figsize=(10,5))\n",
    "plt.grid()\n",
    "sns.lineplot(x = data_gp_hour.index, y = data_gp_hour['Sales'])\n"
   ]
  },
  {
   "cell_type": "markdown",
   "metadata": {},
   "source": [
    "#### Which is the most popular product; and plot it against the Sale value"
   ]
  },
  {
   "cell_type": "code",
   "execution_count": 61,
   "metadata": {},
   "outputs": [
    {
     "data": {
      "image/png": "[encoded data removed]",
      "text/plain": [
       "<Figure size 1440x360 with 2 Axes>"
      ]
     },
     "metadata": {
      "needs_background": "light"
     },
     "output_type": "display_data"
    }
   ],
   "source": [
    "n = 15  ### Number of products to see in the plot\n",
    "data2['Quantity Ordered'] = data2['Quantity Ordered'].astype('int')\n",
    "data_product_gp = data2.groupby('Product').sum()\n",
    "data_product_gp = data_product_gp.sort_values(by='Quantity Ordered',ascending=False)\n",
    "plt.figure(figsize=(20,5))\n",
    "g = sns.barplot(x = data_product_gp.index[0:n], y = data_product_gp['Quantity Ordered'][0:n])\n",
    "g.set_xticklabels(data_product_gp.index[0:n],rotation=90)\n",
    "ax2 = plt.twinx()\n",
    "sns.lineplot(data=data_product_gp['Sales'][0:n], color=\"b\", ax=ax2)\n",
    "ax2.set(ylabel = 'Sales')\n",
    "g.grid()"
   ]
  },
  {
   "cell_type": "markdown",
   "metadata": {},
   "source": [
    "#### What products are sold together"
   ]
  },
  {
   "cell_type": "code",
   "execution_count": 72,
   "metadata": {},
   "outputs": [
    {
     "name": "stderr",
     "output_type": "stream",
     "text": [
      "/Users/charu/opt/anaconda3/lib/python3.7/site-packages/ipykernel_launcher.py:5: SettingWithCopyWarning: \n",
      "A value is trying to be set on a copy of a slice from a DataFrame.\n",
      "Try using .loc[row_indexer,col_indexer] = value instead\n",
      "\n",
      "See the caveats in the documentation: http://pandas.pydata.org/pandas-docs/stable/user_guide/indexing.html#returning-a-view-versus-a-copy\n",
      "  \"\"\"\n",
      "/Users/charu/opt/anaconda3/lib/python3.7/site-packages/ipykernel_launcher.py:7: SettingWithCopyWarning: \n",
      "A value is trying to be set on a copy of a slice from a DataFrame\n",
      "\n",
      "See the caveats in the documentation: http://pandas.pydata.org/pandas-docs/stable/user_guide/indexing.html#returning-a-view-versus-a-copy\n",
      "  import sys\n"
     ]
    },
    {
     "data": {
      "text/html": [
       "<div>\n",
       "<style scoped>\n",
       "    .dataframe tbody tr th:only-of-type {\n",
       "        vertical-align: middle;\n",
       "    }\n",
       "\n",
       "    .dataframe tbody tr th {\n",
       "        vertical-align: top;\n",
       "    }\n",
       "\n",
       "    .dataframe thead th {\n",
       "        text-align: right;\n",
       "    }\n",
       "</style>\n",
       "<table border=\"1\" class=\"dataframe\">\n",
       "  <thead>\n",
       "    <tr style=\"text-align: right;\">\n",
       "      <th></th>\n",
       "      <th>Order ID</th>\n",
       "      <th>Product</th>\n",
       "      <th>Quantity Ordered</th>\n",
       "      <th>Price Each</th>\n",
       "      <th>Order Date</th>\n",
       "      <th>Purchase Address</th>\n",
       "      <th>Month</th>\n",
       "      <th>Sales</th>\n",
       "      <th>State</th>\n",
       "      <th>City</th>\n",
       "      <th>City, State</th>\n",
       "      <th>Order Time</th>\n",
       "      <th>Order Hour</th>\n",
       "      <th>Grouped Products</th>\n",
       "    </tr>\n",
       "  </thead>\n",
       "  <tbody>\n",
       "    <tr>\n",
       "      <td>16</td>\n",
       "      <td>295681</td>\n",
       "      <td>Google Phone</td>\n",
       "      <td>1</td>\n",
       "      <td>600</td>\n",
       "      <td>12/25/19 12:37</td>\n",
       "      <td>79 Elm St, Boston, MA 02215</td>\n",
       "      <td>12</td>\n",
       "      <td>600.00</td>\n",
       "      <td>MA</td>\n",
       "      <td>Boston</td>\n",
       "      <td>Boston,  MA</td>\n",
       "      <td>12:37</td>\n",
       "      <td>12</td>\n",
       "      <td>Google Phone,USB-C Charging Cable,Bose SoundSp...</td>\n",
       "    </tr>\n",
       "    <tr>\n",
       "      <td>17</td>\n",
       "      <td>295681</td>\n",
       "      <td>USB-C Charging Cable</td>\n",
       "      <td>1</td>\n",
       "      <td>11.95</td>\n",
       "      <td>12/25/19 12:37</td>\n",
       "      <td>79 Elm St, Boston, MA 02215</td>\n",
       "      <td>12</td>\n",
       "      <td>11.95</td>\n",
       "      <td>MA</td>\n",
       "      <td>Boston</td>\n",
       "      <td>Boston,  MA</td>\n",
       "      <td>12:37</td>\n",
       "      <td>12</td>\n",
       "      <td>Google Phone,USB-C Charging Cable,Bose SoundSp...</td>\n",
       "    </tr>\n",
       "    <tr>\n",
       "      <td>18</td>\n",
       "      <td>295681</td>\n",
       "      <td>Bose SoundSport Headphones</td>\n",
       "      <td>1</td>\n",
       "      <td>99.99</td>\n",
       "      <td>12/25/19 12:37</td>\n",
       "      <td>79 Elm St, Boston, MA 02215</td>\n",
       "      <td>12</td>\n",
       "      <td>99.99</td>\n",
       "      <td>MA</td>\n",
       "      <td>Boston</td>\n",
       "      <td>Boston,  MA</td>\n",
       "      <td>12:37</td>\n",
       "      <td>12</td>\n",
       "      <td>Google Phone,USB-C Charging Cable,Bose SoundSp...</td>\n",
       "    </tr>\n",
       "    <tr>\n",
       "      <td>19</td>\n",
       "      <td>295681</td>\n",
       "      <td>Wired Headphones</td>\n",
       "      <td>1</td>\n",
       "      <td>11.99</td>\n",
       "      <td>12/25/19 12:37</td>\n",
       "      <td>79 Elm St, Boston, MA 02215</td>\n",
       "      <td>12</td>\n",
       "      <td>11.99</td>\n",
       "      <td>MA</td>\n",
       "      <td>Boston</td>\n",
       "      <td>Boston,  MA</td>\n",
       "      <td>12:37</td>\n",
       "      <td>12</td>\n",
       "      <td>Google Phone,USB-C Charging Cable,Bose SoundSp...</td>\n",
       "    </tr>\n",
       "    <tr>\n",
       "      <td>36</td>\n",
       "      <td>295698</td>\n",
       "      <td>Vareebadd Phone</td>\n",
       "      <td>1</td>\n",
       "      <td>400</td>\n",
       "      <td>12/13/19 14:32</td>\n",
       "      <td>175 1st St, New York City, NY 10001</td>\n",
       "      <td>12</td>\n",
       "      <td>400.00</td>\n",
       "      <td>NY</td>\n",
       "      <td>New York City</td>\n",
       "      <td>New York City,  NY</td>\n",
       "      <td>14:32</td>\n",
       "      <td>14</td>\n",
       "      <td>Vareebadd Phone,USB-C Charging Cable</td>\n",
       "    </tr>\n",
       "  </tbody>\n",
       "</table>\n",
       "</div>"
      ],
      "text/plain": [
       "   Order ID                     Product  Quantity Ordered Price Each  \\\n",
       "16   295681                Google Phone                 1        600   \n",
       "17   295681        USB-C Charging Cable                 1      11.95   \n",
       "18   295681  Bose SoundSport Headphones                 1      99.99   \n",
       "19   295681            Wired Headphones                 1      11.99   \n",
       "36   295698             Vareebadd Phone                 1        400   \n",
       "\n",
       "        Order Date                     Purchase Address  Month   Sales State  \\\n",
       "16  12/25/19 12:37          79 Elm St, Boston, MA 02215     12  600.00    MA   \n",
       "17  12/25/19 12:37          79 Elm St, Boston, MA 02215     12   11.95    MA   \n",
       "18  12/25/19 12:37          79 Elm St, Boston, MA 02215     12   99.99    MA   \n",
       "19  12/25/19 12:37          79 Elm St, Boston, MA 02215     12   11.99    MA   \n",
       "36  12/13/19 14:32  175 1st St, New York City, NY 10001     12  400.00    NY   \n",
       "\n",
       "              City          City, State Order Time Order Hour  \\\n",
       "16          Boston          Boston,  MA      12:37         12   \n",
       "17          Boston          Boston,  MA      12:37         12   \n",
       "18          Boston          Boston,  MA      12:37         12   \n",
       "19          Boston          Boston,  MA      12:37         12   \n",
       "36   New York City   New York City,  NY      14:32         14   \n",
       "\n",
       "                                     Grouped Products  \n",
       "16  Google Phone,USB-C Charging Cable,Bose SoundSp...  \n",
       "17  Google Phone,USB-C Charging Cable,Bose SoundSp...  \n",
       "18  Google Phone,USB-C Charging Cable,Bose SoundSp...  \n",
       "19  Google Phone,USB-C Charging Cable,Bose SoundSp...  \n",
       "36               Vareebadd Phone,USB-C Charging Cable  "
      ]
     },
     "execution_count": 72,
     "metadata": {},
     "output_type": "execute_result"
    }
   ],
   "source": [
    "data2.head()\n",
    "## keep duplicated order\n",
    "data3 = data2[data2.duplicated('Order ID', keep=False)]\n",
    "## this also works -> data3 = data2[data2['Order ID'].duplicated(keep=False)]\n",
    "data3['Grouped Products'] = data3.groupby('Order ID')['Product'].transform(lambda x : ',' .join(x))\n",
    "data3.head()\n",
    "data3.drop_duplicates(inplace=True)\n",
    "data3.head()"
   ]
  },
  {
   "cell_type": "code",
   "execution_count": 82,
   "metadata": {},
   "outputs": [
    {
     "data": {
      "text/html": [
       "<div>\n",
       "<style scoped>\n",
       "    .dataframe tbody tr th:only-of-type {\n",
       "        vertical-align: middle;\n",
       "    }\n",
       "\n",
       "    .dataframe tbody tr th {\n",
       "        vertical-align: top;\n",
       "    }\n",
       "\n",
       "    .dataframe thead th {\n",
       "        text-align: right;\n",
       "    }\n",
       "</style>\n",
       "<table border=\"1\" class=\"dataframe\">\n",
       "  <thead>\n",
       "    <tr style=\"text-align: right;\">\n",
       "      <th></th>\n",
       "      <th>Order ID</th>\n",
       "      <th>Product</th>\n",
       "      <th>Quantity Ordered</th>\n",
       "      <th>Price Each</th>\n",
       "      <th>Order Date</th>\n",
       "      <th>Purchase Address</th>\n",
       "      <th>Month</th>\n",
       "      <th>Sales</th>\n",
       "      <th>State</th>\n",
       "      <th>City</th>\n",
       "      <th>City, State</th>\n",
       "      <th>Order Time</th>\n",
       "      <th>Order Hour</th>\n",
       "    </tr>\n",
       "    <tr>\n",
       "      <th>Grouped Products</th>\n",
       "      <th></th>\n",
       "      <th></th>\n",
       "      <th></th>\n",
       "      <th></th>\n",
       "      <th></th>\n",
       "      <th></th>\n",
       "      <th></th>\n",
       "      <th></th>\n",
       "      <th></th>\n",
       "      <th></th>\n",
       "      <th></th>\n",
       "      <th></th>\n",
       "      <th></th>\n",
       "    </tr>\n",
       "  </thead>\n",
       "  <tbody>\n",
       "    <tr>\n",
       "      <td>iPhone,Lightning Charging Cable</td>\n",
       "      <td>1764</td>\n",
       "      <td>1764</td>\n",
       "      <td>1764</td>\n",
       "      <td>1764</td>\n",
       "      <td>1764</td>\n",
       "      <td>1764</td>\n",
       "      <td>1764</td>\n",
       "      <td>1764</td>\n",
       "      <td>1764</td>\n",
       "      <td>1764</td>\n",
       "      <td>1764</td>\n",
       "      <td>1764</td>\n",
       "      <td>1764</td>\n",
       "    </tr>\n",
       "    <tr>\n",
       "      <td>Google Phone,USB-C Charging Cable</td>\n",
       "      <td>1712</td>\n",
       "      <td>1712</td>\n",
       "      <td>1712</td>\n",
       "      <td>1712</td>\n",
       "      <td>1712</td>\n",
       "      <td>1712</td>\n",
       "      <td>1712</td>\n",
       "      <td>1712</td>\n",
       "      <td>1712</td>\n",
       "      <td>1712</td>\n",
       "      <td>1712</td>\n",
       "      <td>1712</td>\n",
       "      <td>1712</td>\n",
       "    </tr>\n",
       "    <tr>\n",
       "      <td>iPhone,Wired Headphones</td>\n",
       "      <td>722</td>\n",
       "      <td>722</td>\n",
       "      <td>722</td>\n",
       "      <td>722</td>\n",
       "      <td>722</td>\n",
       "      <td>722</td>\n",
       "      <td>722</td>\n",
       "      <td>722</td>\n",
       "      <td>722</td>\n",
       "      <td>722</td>\n",
       "      <td>722</td>\n",
       "      <td>722</td>\n",
       "      <td>722</td>\n",
       "    </tr>\n",
       "    <tr>\n",
       "      <td>Vareebadd Phone,USB-C Charging Cable</td>\n",
       "      <td>624</td>\n",
       "      <td>624</td>\n",
       "      <td>624</td>\n",
       "      <td>624</td>\n",
       "      <td>624</td>\n",
       "      <td>624</td>\n",
       "      <td>624</td>\n",
       "      <td>624</td>\n",
       "      <td>624</td>\n",
       "      <td>624</td>\n",
       "      <td>624</td>\n",
       "      <td>624</td>\n",
       "      <td>624</td>\n",
       "    </tr>\n",
       "    <tr>\n",
       "      <td>Google Phone,Wired Headphones</td>\n",
       "      <td>606</td>\n",
       "      <td>606</td>\n",
       "      <td>606</td>\n",
       "      <td>606</td>\n",
       "      <td>606</td>\n",
       "      <td>606</td>\n",
       "      <td>606</td>\n",
       "      <td>606</td>\n",
       "      <td>606</td>\n",
       "      <td>606</td>\n",
       "      <td>606</td>\n",
       "      <td>606</td>\n",
       "      <td>606</td>\n",
       "    </tr>\n",
       "  </tbody>\n",
       "</table>\n",
       "</div>"
      ],
      "text/plain": [
       "                                      Order ID  Product  Quantity Ordered  \\\n",
       "Grouped Products                                                            \n",
       "iPhone,Lightning Charging Cable           1764     1764              1764   \n",
       "Google Phone,USB-C Charging Cable         1712     1712              1712   \n",
       "iPhone,Wired Headphones                    722      722               722   \n",
       "Vareebadd Phone,USB-C Charging Cable       624      624               624   \n",
       "Google Phone,Wired Headphones              606      606               606   \n",
       "\n",
       "                                      Price Each  Order Date  \\\n",
       "Grouped Products                                               \n",
       "iPhone,Lightning Charging Cable             1764        1764   \n",
       "Google Phone,USB-C Charging Cable           1712        1712   \n",
       "iPhone,Wired Headphones                      722         722   \n",
       "Vareebadd Phone,USB-C Charging Cable         624         624   \n",
       "Google Phone,Wired Headphones                606         606   \n",
       "\n",
       "                                      Purchase Address  Month  Sales  State  \\\n",
       "Grouped Products                                                              \n",
       "iPhone,Lightning Charging Cable                   1764   1764   1764   1764   \n",
       "Google Phone,USB-C Charging Cable                 1712   1712   1712   1712   \n",
       "iPhone,Wired Headphones                            722    722    722    722   \n",
       "Vareebadd Phone,USB-C Charging Cable               624    624    624    624   \n",
       "Google Phone,Wired Headphones                      606    606    606    606   \n",
       "\n",
       "                                      City  City, State  Order Time  \\\n",
       "Grouped Products                                                      \n",
       "iPhone,Lightning Charging Cable       1764         1764        1764   \n",
       "Google Phone,USB-C Charging Cable     1712         1712        1712   \n",
       "iPhone,Wired Headphones                722          722         722   \n",
       "Vareebadd Phone,USB-C Charging Cable   624          624         624   \n",
       "Google Phone,Wired Headphones          606          606         606   \n",
       "\n",
       "                                      Order Hour  \n",
       "Grouped Products                                  \n",
       "iPhone,Lightning Charging Cable             1764  \n",
       "Google Phone,USB-C Charging Cable           1712  \n",
       "iPhone,Wired Headphones                      722  \n",
       "Vareebadd Phone,USB-C Charging Cable         624  \n",
       "Google Phone,Wired Headphones                606  "
      ]
     },
     "execution_count": 82,
     "metadata": {},
     "output_type": "execute_result"
    }
   ],
   "source": [
    "data_gp_group = data3.groupby('Grouped Products').count()\n",
    "data_gp_group.sort_values(by = 'Sales', ascending=False)[0:5]\n"
   ]
  },
  {
   "cell_type": "code",
   "execution_count": null,
   "metadata": {},
   "outputs": [],
   "source": []
  }
 ],
 "metadata": {
  "kernelspec": {
   "display_name": "Python 3",
   "language": "python",
   "name": "python3"
  },
  "language_info": {
   "codemirror_mode": {
    "name": "ipython",
    "version": 3
   },
   "file_extension": ".py",
   "mimetype": "text/x-python",
   "name": "python",
   "nbconvert_exporter": "python",
   "pygments_lexer": "ipython3",
   "version": "3.7.4"
  }
 },
 "nbformat": 4,
 "nbformat_minor": 2
}
